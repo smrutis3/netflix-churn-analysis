{
  "nbformat": 4,
  "nbformat_minor": 0,
  "metadata": {
    "colab": {
      "provenance": []
    },
    "kernelspec": {
      "name": "python3",
      "display_name": "Python 3"
    },
    "language_info": {
      "name": "python"
    }
  },
  "cells": [
    {
      "cell_type": "code",
      "execution_count": 1,
      "metadata": {
        "id": "L6mC9YebOUIG"
      },
      "outputs": [],
      "source": [
        "import pandas as pd\n",
        "import numpy as np\n",
        "import matplotlib.pyplot as plt\n",
        "import seaborn as sns"
      ]
    },
    {
      "cell_type": "code",
      "source": [
        "from google.colab import files\n",
        "import pandas as pd\n",
        "import io"
      ],
      "metadata": {
        "id": "7nv2u15c6J-M"
      },
      "execution_count": 4,
      "outputs": []
    },
    {
      "cell_type": "code",
      "source": [
        "uploaded = files.upload()"
      ],
      "metadata": {
        "colab": {
          "base_uri": "https://localhost:8080/",
          "height": 74
        },
        "id": "N52dElWH6czK",
        "outputId": "e259fc47-93c0-44b5-8ea7-9dce9e304368"
      },
      "execution_count": 5,
      "outputs": [
        {
          "output_type": "display_data",
          "data": {
            "text/plain": [
              "<IPython.core.display.HTML object>"
            ],
            "text/html": [
              "\n",
              "     <input type=\"file\" id=\"files-01538c77-7d0f-4d7f-9597-f860e7a62fb8\" name=\"files[]\" multiple disabled\n",
              "        style=\"border:none\" />\n",
              "     <output id=\"result-01538c77-7d0f-4d7f-9597-f860e7a62fb8\">\n",
              "      Upload widget is only available when the cell has been executed in the\n",
              "      current browser session. Please rerun this cell to enable.\n",
              "      </output>\n",
              "      <script>// Copyright 2017 Google LLC\n",
              "//\n",
              "// Licensed under the Apache License, Version 2.0 (the \"License\");\n",
              "// you may not use this file except in compliance with the License.\n",
              "// You may obtain a copy of the License at\n",
              "//\n",
              "//      http://www.apache.org/licenses/LICENSE-2.0\n",
              "//\n",
              "// Unless required by applicable law or agreed to in writing, software\n",
              "// distributed under the License is distributed on an \"AS IS\" BASIS,\n",
              "// WITHOUT WARRANTIES OR CONDITIONS OF ANY KIND, either express or implied.\n",
              "// See the License for the specific language governing permissions and\n",
              "// limitations under the License.\n",
              "\n",
              "/**\n",
              " * @fileoverview Helpers for google.colab Python module.\n",
              " */\n",
              "(function(scope) {\n",
              "function span(text, styleAttributes = {}) {\n",
              "  const element = document.createElement('span');\n",
              "  element.textContent = text;\n",
              "  for (const key of Object.keys(styleAttributes)) {\n",
              "    element.style[key] = styleAttributes[key];\n",
              "  }\n",
              "  return element;\n",
              "}\n",
              "\n",
              "// Max number of bytes which will be uploaded at a time.\n",
              "const MAX_PAYLOAD_SIZE = 100 * 1024;\n",
              "\n",
              "function _uploadFiles(inputId, outputId) {\n",
              "  const steps = uploadFilesStep(inputId, outputId);\n",
              "  const outputElement = document.getElementById(outputId);\n",
              "  // Cache steps on the outputElement to make it available for the next call\n",
              "  // to uploadFilesContinue from Python.\n",
              "  outputElement.steps = steps;\n",
              "\n",
              "  return _uploadFilesContinue(outputId);\n",
              "}\n",
              "\n",
              "// This is roughly an async generator (not supported in the browser yet),\n",
              "// where there are multiple asynchronous steps and the Python side is going\n",
              "// to poll for completion of each step.\n",
              "// This uses a Promise to block the python side on completion of each step,\n",
              "// then passes the result of the previous step as the input to the next step.\n",
              "function _uploadFilesContinue(outputId) {\n",
              "  const outputElement = document.getElementById(outputId);\n",
              "  const steps = outputElement.steps;\n",
              "\n",
              "  const next = steps.next(outputElement.lastPromiseValue);\n",
              "  return Promise.resolve(next.value.promise).then((value) => {\n",
              "    // Cache the last promise value to make it available to the next\n",
              "    // step of the generator.\n",
              "    outputElement.lastPromiseValue = value;\n",
              "    return next.value.response;\n",
              "  });\n",
              "}\n",
              "\n",
              "/**\n",
              " * Generator function which is called between each async step of the upload\n",
              " * process.\n",
              " * @param {string} inputId Element ID of the input file picker element.\n",
              " * @param {string} outputId Element ID of the output display.\n",
              " * @return {!Iterable<!Object>} Iterable of next steps.\n",
              " */\n",
              "function* uploadFilesStep(inputId, outputId) {\n",
              "  const inputElement = document.getElementById(inputId);\n",
              "  inputElement.disabled = false;\n",
              "\n",
              "  const outputElement = document.getElementById(outputId);\n",
              "  outputElement.innerHTML = '';\n",
              "\n",
              "  const pickedPromise = new Promise((resolve) => {\n",
              "    inputElement.addEventListener('change', (e) => {\n",
              "      resolve(e.target.files);\n",
              "    });\n",
              "  });\n",
              "\n",
              "  const cancel = document.createElement('button');\n",
              "  inputElement.parentElement.appendChild(cancel);\n",
              "  cancel.textContent = 'Cancel upload';\n",
              "  const cancelPromise = new Promise((resolve) => {\n",
              "    cancel.onclick = () => {\n",
              "      resolve(null);\n",
              "    };\n",
              "  });\n",
              "\n",
              "  // Wait for the user to pick the files.\n",
              "  const files = yield {\n",
              "    promise: Promise.race([pickedPromise, cancelPromise]),\n",
              "    response: {\n",
              "      action: 'starting',\n",
              "    }\n",
              "  };\n",
              "\n",
              "  cancel.remove();\n",
              "\n",
              "  // Disable the input element since further picks are not allowed.\n",
              "  inputElement.disabled = true;\n",
              "\n",
              "  if (!files) {\n",
              "    return {\n",
              "      response: {\n",
              "        action: 'complete',\n",
              "      }\n",
              "    };\n",
              "  }\n",
              "\n",
              "  for (const file of files) {\n",
              "    const li = document.createElement('li');\n",
              "    li.append(span(file.name, {fontWeight: 'bold'}));\n",
              "    li.append(span(\n",
              "        `(${file.type || 'n/a'}) - ${file.size} bytes, ` +\n",
              "        `last modified: ${\n",
              "            file.lastModifiedDate ? file.lastModifiedDate.toLocaleDateString() :\n",
              "                                    'n/a'} - `));\n",
              "    const percent = span('0% done');\n",
              "    li.appendChild(percent);\n",
              "\n",
              "    outputElement.appendChild(li);\n",
              "\n",
              "    const fileDataPromise = new Promise((resolve) => {\n",
              "      const reader = new FileReader();\n",
              "      reader.onload = (e) => {\n",
              "        resolve(e.target.result);\n",
              "      };\n",
              "      reader.readAsArrayBuffer(file);\n",
              "    });\n",
              "    // Wait for the data to be ready.\n",
              "    let fileData = yield {\n",
              "      promise: fileDataPromise,\n",
              "      response: {\n",
              "        action: 'continue',\n",
              "      }\n",
              "    };\n",
              "\n",
              "    // Use a chunked sending to avoid message size limits. See b/62115660.\n",
              "    let position = 0;\n",
              "    do {\n",
              "      const length = Math.min(fileData.byteLength - position, MAX_PAYLOAD_SIZE);\n",
              "      const chunk = new Uint8Array(fileData, position, length);\n",
              "      position += length;\n",
              "\n",
              "      const base64 = btoa(String.fromCharCode.apply(null, chunk));\n",
              "      yield {\n",
              "        response: {\n",
              "          action: 'append',\n",
              "          file: file.name,\n",
              "          data: base64,\n",
              "        },\n",
              "      };\n",
              "\n",
              "      let percentDone = fileData.byteLength === 0 ?\n",
              "          100 :\n",
              "          Math.round((position / fileData.byteLength) * 100);\n",
              "      percent.textContent = `${percentDone}% done`;\n",
              "\n",
              "    } while (position < fileData.byteLength);\n",
              "  }\n",
              "\n",
              "  // All done.\n",
              "  yield {\n",
              "    response: {\n",
              "      action: 'complete',\n",
              "    }\n",
              "  };\n",
              "}\n",
              "\n",
              "scope.google = scope.google || {};\n",
              "scope.google.colab = scope.google.colab || {};\n",
              "scope.google.colab._files = {\n",
              "  _uploadFiles,\n",
              "  _uploadFilesContinue,\n",
              "};\n",
              "})(self);\n",
              "</script> "
            ]
          },
          "metadata": {}
        },
        {
          "output_type": "stream",
          "name": "stdout",
          "text": [
            "Saving netflix_users.csv to netflix_users.csv\n"
          ]
        }
      ]
    },
    {
      "cell_type": "code",
      "source": [
        "df = pd.read_csv(\"netflix_users.csv\")"
      ],
      "metadata": {
        "id": "OuQUHiWJ6jUJ"
      },
      "execution_count": 6,
      "outputs": []
    },
    {
      "cell_type": "code",
      "source": [
        "print(df.info())"
      ],
      "metadata": {
        "colab": {
          "base_uri": "https://localhost:8080/"
        },
        "id": "VWpYzcDy6meN",
        "outputId": "fd508142-3f38-4ddd-8d65-cc48366a8a5f"
      },
      "execution_count": 7,
      "outputs": [
        {
          "output_type": "stream",
          "name": "stdout",
          "text": [
            "<class 'pandas.core.frame.DataFrame'>\n",
            "RangeIndex: 25000 entries, 0 to 24999\n",
            "Data columns (total 8 columns):\n",
            " #   Column             Non-Null Count  Dtype  \n",
            "---  ------             --------------  -----  \n",
            " 0   User_ID            25000 non-null  int64  \n",
            " 1   Name               25000 non-null  object \n",
            " 2   Age                25000 non-null  int64  \n",
            " 3   Country            25000 non-null  object \n",
            " 4   Subscription_Type  25000 non-null  object \n",
            " 5   Watch_Time_Hours   25000 non-null  float64\n",
            " 6   Favorite_Genre     25000 non-null  object \n",
            " 7   Last_Login         25000 non-null  object \n",
            "dtypes: float64(1), int64(2), object(5)\n",
            "memory usage: 1.5+ MB\n",
            "None\n"
          ]
        }
      ]
    },
    {
      "cell_type": "code",
      "source": [
        "print(df.shape)"
      ],
      "metadata": {
        "colab": {
          "base_uri": "https://localhost:8080/"
        },
        "id": "DrFd-zCC62pk",
        "outputId": "3e5324e7-97ff-4666-d556-80b25036bedf"
      },
      "execution_count": 8,
      "outputs": [
        {
          "output_type": "stream",
          "name": "stdout",
          "text": [
            "(25000, 8)\n"
          ]
        }
      ]
    },
    {
      "cell_type": "code",
      "source": [
        "df['Last_Login'] = pd.to_datetime(df['Last_Login'])"
      ],
      "metadata": {
        "id": "62O4o1Dm7V0n"
      },
      "execution_count": 9,
      "outputs": []
    },
    {
      "cell_type": "code",
      "source": [
        "latest_login_date = df['Last_Login'].max()"
      ],
      "metadata": {
        "id": "aZOfDbki8A3_"
      },
      "execution_count": 10,
      "outputs": []
    },
    {
      "cell_type": "code",
      "source": [
        "REFERENCE_DATE = latest_login_date + pd.Timedelta(days=1)"
      ],
      "metadata": {
        "id": "1QbGv2hP8DKm"
      },
      "execution_count": 11,
      "outputs": []
    },
    {
      "cell_type": "code",
      "source": [
        "df['Days_Since_Last_Login'] = (REFERENCE_DATE - df['Last_Login']).dt.days"
      ],
      "metadata": {
        "id": "xvLpWnKH8F6X"
      },
      "execution_count": 12,
      "outputs": []
    },
    {
      "cell_type": "code",
      "source": [
        "CHURN_THRESHOLD_DAYS = 30\n",
        "df['Churn'] = np.where(df['Days_Since_Last_Login'] > CHURN_THRESHOLD_DAYS, 1, 0)"
      ],
      "metadata": {
        "id": "BAsBR_TB8I5o"
      },
      "execution_count": 14,
      "outputs": []
    },
    {
      "cell_type": "code",
      "source": [
        "print(df[['Last_Login', 'Days_Since_Last_Login', 'Churn']].sample(5))"
      ],
      "metadata": {
        "colab": {
          "base_uri": "https://localhost:8080/"
        },
        "id": "n4SbvzAa8LX6",
        "outputId": "f643c382-354e-4971-e452-630b6b26f300"
      },
      "execution_count": 15,
      "outputs": [
        {
          "output_type": "stream",
          "name": "stdout",
          "text": [
            "      Last_Login  Days_Since_Last_Login  Churn\n",
            "2958  2024-03-13                    361      1\n",
            "8345  2024-07-03                    249      1\n",
            "499   2024-11-16                    113      1\n",
            "19272 2024-08-11                    210      1\n",
            "14747 2024-03-20                    354      1\n"
          ]
        }
      ]
    },
    {
      "cell_type": "code",
      "source": [
        "print(df['Churn'].value_counts())"
      ],
      "metadata": {
        "colab": {
          "base_uri": "https://localhost:8080/"
        },
        "id": "cMMd-Sei8PaW",
        "outputId": "c269427d-6bc0-4a2f-cc4a-d82ab9cea8ce"
      },
      "execution_count": 16,
      "outputs": [
        {
          "output_type": "stream",
          "name": "stdout",
          "text": [
            "Churn\n",
            "1    22919\n",
            "0     2081\n",
            "Name: count, dtype: int64\n"
          ]
        }
      ]
    },
    {
      "cell_type": "code",
      "source": [
        "print(f\"Churn Rate: {df['Churn'].mean() * 100:.2f}%\")"
      ],
      "metadata": {
        "colab": {
          "base_uri": "https://localhost:8080/"
        },
        "id": "rUmmVhFC8TSh",
        "outputId": "884146af-0093-4b50-df3e-281c8fe78a47"
      },
      "execution_count": 17,
      "outputs": [
        {
          "output_type": "stream",
          "name": "stdout",
          "text": [
            "Churn Rate: 91.68%\n"
          ]
        }
      ]
    },
    {
      "cell_type": "code",
      "source": [
        "print(\"\\n--- Churn Calculation Sample ---\")\n",
        "print(df[['Last_Login', 'Days_Since_Last_Login', 'Churn']].sample(5).to_markdown(index=False))\n",
        "\n",
        "print(\"\\n--- Churn Distribution ---\")\n",
        "print(df['Churn'].value_counts().to_markdown())\n",
        "print(f\"\\nCalculated Churn Rate: {df['Churn'].mean() * 100:.2f}%\")\n",
        "\n",
        "# Save the updated DataFrame for Action 3 (EDA)\n",
        "df.to_csv('netflix_users_processed.csv', index=False)"
      ],
      "metadata": {
        "colab": {
          "base_uri": "https://localhost:8080/"
        },
        "id": "ELJLSRYd8cSt",
        "outputId": "06846273-2e81-493b-f797-0b4818a7319b"
      },
      "execution_count": 18,
      "outputs": [
        {
          "output_type": "stream",
          "name": "stdout",
          "text": [
            "\n",
            "--- Churn Calculation Sample ---\n",
            "| Last_Login          |   Days_Since_Last_Login |   Churn |\n",
            "|:--------------------|------------------------:|--------:|\n",
            "| 2025-02-22 00:00:00 |                      15 |       0 |\n",
            "| 2024-11-26 00:00:00 |                     103 |       1 |\n",
            "| 2025-02-08 00:00:00 |                      29 |       0 |\n",
            "| 2024-11-19 00:00:00 |                     110 |       1 |\n",
            "| 2024-06-06 00:00:00 |                     276 |       1 |\n",
            "\n",
            "--- Churn Distribution ---\n",
            "|   Churn |   count |\n",
            "|--------:|--------:|\n",
            "|       1 |   22919 |\n",
            "|       0 |    2081 |\n",
            "\n",
            "Calculated Churn Rate: 91.68%\n"
          ]
        }
      ]
    },
    {
      "cell_type": "code",
      "source": [
        "import pandas as pd\n",
        "import seaborn as sns\n",
        "import matplotlib.pyplot as plt"
      ],
      "metadata": {
        "id": "Kmzwa9Xx8eSW"
      },
      "execution_count": 19,
      "outputs": []
    },
    {
      "cell_type": "code",
      "source": [
        "df = pd.read_csv('netflix_users_processed.csv')"
      ],
      "metadata": {
        "id": "0RkUWfuw8-wH"
      },
      "execution_count": 20,
      "outputs": []
    },
    {
      "cell_type": "code",
      "source": [
        "churn_by_sub = df.groupby('Subscription_Type')['Churn'].mean().reset_index()"
      ],
      "metadata": {
        "id": "cvfFXo8w9Cr9"
      },
      "execution_count": 21,
      "outputs": []
    },
    {
      "cell_type": "code",
      "source": [
        "plt.figure(figsize=(8, 5))"
      ],
      "metadata": {
        "colab": {
          "base_uri": "https://localhost:8080/",
          "height": 53
        },
        "id": "lAr1GKDc9DdT",
        "outputId": "d57750d0-1119-4cea-afe6-2bbdd9e68e8c"
      },
      "execution_count": 22,
      "outputs": [
        {
          "output_type": "execute_result",
          "data": {
            "text/plain": [
              "<Figure size 800x500 with 0 Axes>"
            ]
          },
          "metadata": {},
          "execution_count": 22
        },
        {
          "output_type": "display_data",
          "data": {
            "text/plain": [
              "<Figure size 800x500 with 0 Axes>"
            ]
          },
          "metadata": {}
        }
      ]
    },
    {
      "cell_type": "code",
      "source": [
        "sns.barplot(x='Subscription_Type', y='Churn', data=churn_by_sub, palette='viridis')"
      ],
      "metadata": {
        "colab": {
          "base_uri": "https://localhost:8080/",
          "height": 557
        },
        "id": "k9YepHjh9F-y",
        "outputId": "f3b92aea-80b8-4a25-b7f8-f20e895c6c4c"
      },
      "execution_count": 23,
      "outputs": [
        {
          "output_type": "stream",
          "name": "stderr",
          "text": [
            "/tmp/ipython-input-1649903316.py:1: FutureWarning: \n",
            "\n",
            "Passing `palette` without assigning `hue` is deprecated and will be removed in v0.14.0. Assign the `x` variable to `hue` and set `legend=False` for the same effect.\n",
            "\n",
            "  sns.barplot(x='Subscription_Type', y='Churn', data=churn_by_sub, palette='viridis')\n"
          ]
        },
        {
          "output_type": "execute_result",
          "data": {
            "text/plain": [
              "<Axes: xlabel='Subscription_Type', ylabel='Churn'>"
            ]
          },
          "metadata": {},
          "execution_count": 23
        },
        {
          "output_type": "display_data",
          "data": {
            "text/plain": [
              "<Figure size 640x480 with 1 Axes>"
            ],
            "image/png": "[encoded data removed]"
          },
          "metadata": {}
        }
      ]
    },
    {
      "cell_type": "code",
      "source": [
        "plt.title('Churn Rate by Subscription Type')"
      ],
      "metadata": {
        "colab": {
          "base_uri": "https://localhost:8080/",
          "height": 470
        },
        "id": "jOonREtf9J5O",
        "outputId": "0705b6a3-c2c1-4ee3-a888-02f4f3844840"
      },
      "execution_count": 24,
      "outputs": [
        {
          "output_type": "execute_result",
          "data": {
            "text/plain": [
              "Text(0.5, 1.0, 'Churn Rate by Subscription Type')"
            ]
          },
          "metadata": {},
          "execution_count": 24
        },
        {
          "output_type": "display_data",
          "data": {
            "text/plain": [
              "<Figure size 640x480 with 1 Axes>"
            ],
            "image/png": "[encoded data removed]"
          },
          "metadata": {}
        }
      ]
    },
    {
      "cell_type": "code",
      "source": [
        "plt.ylabel('Churn Rate (Proportion)')"
      ],
      "metadata": {
        "colab": {
          "base_uri": "https://localhost:8080/",
          "height": 453
        },
        "id": "dXEzSBvD9O3N",
        "outputId": "af8c843e-310c-4629-9893-0b5dfcfd1120"
      },
      "execution_count": 25,
      "outputs": [
        {
          "output_type": "execute_result",
          "data": {
            "text/plain": [
              "Text(0, 0.5, 'Churn Rate (Proportion)')"
            ]
          },
          "metadata": {},
          "execution_count": 25
        },
        {
          "output_type": "display_data",
          "data": {
            "text/plain": [
              "<Figure size 640x480 with 1 Axes>"
            ],
            "image/png": "[encoded data removed]"
          },
          "metadata": {}
        }
      ]
    },
    {
      "cell_type": "code",
      "source": [
        "plt.show()"
      ],
      "metadata": {
        "id": "zq5ILqcB9RZ2"
      },
      "execution_count": 27,
      "outputs": []
    },
    {
      "cell_type": "code",
      "source": [
        "plt.figure(figsize=(10, 6))"
      ],
      "metadata": {
        "colab": {
          "base_uri": "https://localhost:8080/",
          "height": 53
        },
        "id": "Vyq2Ba549s6s",
        "outputId": "4e929253-1a79-4d4f-e5ad-a469ff0b358d"
      },
      "execution_count": 28,
      "outputs": [
        {
          "output_type": "execute_result",
          "data": {
            "text/plain": [
              "<Figure size 1000x600 with 0 Axes>"
            ]
          },
          "metadata": {},
          "execution_count": 28
        },
        {
          "output_type": "display_data",
          "data": {
            "text/plain": [
              "<Figure size 1000x600 with 0 Axes>"
            ]
          },
          "metadata": {}
        }
      ]
    },
    {
      "cell_type": "code",
      "source": [
        "sns.histplot(data=df, x='Watch_Time_Hours', hue='Churn', bins=50, kde=True, palette=['green', 'red'], common_norm=False)"
      ],
      "metadata": {
        "colab": {
          "base_uri": "https://localhost:8080/",
          "height": 468
        },
        "id": "D4b2_61N9uqx",
        "outputId": "2faf3f44-0696-4b24-8be2-5055edf28a1b"
      },
      "execution_count": 29,
      "outputs": [
        {
          "output_type": "execute_result",
          "data": {
            "text/plain": [
              "<Axes: xlabel='Watch_Time_Hours', ylabel='Count'>"
            ]
          },
          "metadata": {},
          "execution_count": 29
        },
        {
          "output_type": "display_data",
          "data": {
            "text/plain": [
              "<Figure size 640x480 with 1 Axes>"
            ],
            "image/png": "[encoded data removed]"
          },
          "metadata": {}
        }
      ]
    },
    {
      "cell_type": "code",
      "source": [
        "plt.title('Distribution of Watch Time Hours for Active vs. Churned Users')"
      ],
      "metadata": {
        "colab": {
          "base_uri": "https://localhost:8080/",
          "height": 470
        },
        "id": "0--rhnUn9wxa",
        "outputId": "4ad20a51-d340-4875-ccbe-2576223401b1"
      },
      "execution_count": 30,
      "outputs": [
        {
          "output_type": "execute_result",
          "data": {
            "text/plain": [
              "Text(0.5, 1.0, 'Distribution of Watch Time Hours for Active vs. Churned Users')"
            ]
          },
          "metadata": {},
          "execution_count": 30
        },
        {
          "output_type": "display_data",
          "data": {
            "text/plain": [
              "<Figure size 640x480 with 1 Axes>"
            ],
            "image/png": "[encoded data removed]"
          },
          "metadata": {}
        }
      ]
    },
    {
      "cell_type": "code",
      "source": [
        "plt.legend(title='Churn', labels=['Active (0)', 'Churned (1)'])"
      ],
      "metadata": {
        "colab": {
          "base_uri": "https://localhost:8080/",
          "height": 453
        },
        "id": "MSWfOW0Q9yxx",
        "outputId": "a5fc9f9c-1de1-47bb-c7e1-1e14fd9e5fb5"
      },
      "execution_count": 31,
      "outputs": [
        {
          "output_type": "execute_result",
          "data": {
            "text/plain": [
              "<matplotlib.legend.Legend at 0x7d9a2511c110>"
            ]
          },
          "metadata": {},
          "execution_count": 31
        },
        {
          "output_type": "display_data",
          "data": {
            "text/plain": [
              "<Figure size 640x480 with 1 Axes>"
            ],
            "image/png": "[encoded data removed]"
          },
          "metadata": {}
        }
      ]
    },
    {
      "cell_type": "code",
      "source": [
        "plt.show()"
      ],
      "metadata": {
        "id": "x5NrJHQu9051"
      },
      "execution_count": 32,
      "outputs": []
    },
    {
      "cell_type": "code",
      "source": [
        "churn_by_genre = df.groupby('Favorite_Genre')['Churn'].mean().reset_index()\n",
        "\n",
        "# Create the visualization\n",
        "plt.figure(figsize=(10, 6))\n",
        "sns.barplot(\n",
        "    x='Favorite_Genre',\n",
        "    y='Churn',\n",
        "    data=churn_by_genre,\n",
        "    palette='magma',\n",
        "    # Sort the bars by churn rate (highest to lowest) for clear comparison\n",
        "    order=churn_by_genre.sort_values('Churn', ascending=False)['Favorite_Genre']\n",
        ")"
      ],
      "metadata": {
        "colab": {
          "base_uri": "https://localhost:8080/",
          "height": 649
        },
        "id": "wbBdqDUn-sHF",
        "outputId": "e398c5be-018c-4e9d-a524-aa23ee27d1a5"
      },
      "execution_count": 33,
      "outputs": [
        {
          "output_type": "stream",
          "name": "stderr",
          "text": [
            "/tmp/ipython-input-110245737.py:5: FutureWarning: \n",
            "\n",
            "Passing `palette` without assigning `hue` is deprecated and will be removed in v0.14.0. Assign the `x` variable to `hue` and set `legend=False` for the same effect.\n",
            "\n",
            "  sns.barplot(\n"
          ]
        },
        {
          "output_type": "execute_result",
          "data": {
            "text/plain": [
              "<Axes: xlabel='Favorite_Genre', ylabel='Churn'>"
            ]
          },
          "metadata": {},
          "execution_count": 33
        },
        {
          "output_type": "display_data",
          "data": {
            "text/plain": [
              "<Figure size 1000x600 with 1 Axes>"
            ],
            "image/png": "[encoded data removed]"
          },
          "metadata": {}
        }
      ]
    },
    {
      "cell_type": "code",
      "source": [
        "plt.title('Churn Rate by Favorite Genre')\n",
        "plt.ylabel('Churn Rate (Proportion)')\n",
        "plt.xlabel('Favorite Genre')\n",
        "plt.xticks(rotation=45, ha='right') # Rotate x-axis labels for readability\n",
        "\n",
        "# Adjust y-limits to zoom in on the small differences for clearer visual analysis\n",
        "plt.ylim(churn_by_genre['Churn'].min() * 0.99, churn_by_genre['Churn'].max() * 1.01)\n",
        "plt.grid(axis='y', linestyle='--', alpha=0.7)\n",
        "plt.tight_layout()\n",
        "\n",
        "# Display the plot\n",
        "plt.show()"
      ],
      "metadata": {
        "colab": {
          "base_uri": "https://localhost:8080/",
          "height": 487
        },
        "id": "Zc3Mocyz-wR0",
        "outputId": "b3aeda86-ba20-42f4-f00f-9b4bc8ba59d3"
      },
      "execution_count": 34,
      "outputs": [
        {
          "output_type": "display_data",
          "data": {
            "text/plain": [
              "<Figure size 640x480 with 1 Axes>"
            ],
            "image/png": "[encoded data removed]"
          },
          "metadata": {}
        }
      ]
    },
    {
      "cell_type": "code",
      "source": [
        "categorical_features = ['Country', 'Subscription_Type', 'Favorite_Genre']\n",
        "\n",
        "# Apply One-Hot Encoding to convert text columns to numerical (0/1) columns\n",
        "# drop_first=True prevents perfect multicollinearity\n",
        "df_encoded = pd.get_dummies(df, columns=categorical_features, drop_first=True)\n",
        "\n",
        "\n",
        "# --- 3. Define and Separate Final Feature Set (X) and Target (y) ---\n",
        "\n",
        "# Columns to remove: IDs, Names, and the original date column\n",
        "columns_to_drop = ['User_ID', 'Name', 'Last_Login']\n",
        "\n",
        "# Features (X): Drop the non-predictive columns and the target column 'Churn'\n",
        "X = df_encoded.drop(columns=columns_to_drop + ['Churn'], errors='ignore')\n",
        "\n",
        "# Target (y): This is just our 'Churn' column\n",
        "y = df_encoded['Churn']\n",
        "\n",
        "# --- 4. Final Inspection ---\n",
        "\n",
        "print(\"--- Final Encoded Feature Set (X) Head ---\")\n",
        "print(X.head().to_markdown(index=False))\n",
        "\n",
        "print(\"\\n--- Final Features Info (X) ---\")\n",
        "print(X.info())"
      ],
      "metadata": {
        "colab": {
          "base_uri": "https://localhost:8080/"
        },
        "id": "hfZvPt6U_CWD",
        "outputId": "56843209-289a-4931-d5f5-110dca6da5cc"
      },
      "execution_count": 35,
      "outputs": [
        {
          "output_type": "stream",
          "name": "stdout",
          "text": [
            "--- Final Encoded Feature Set (X) Head ---\n",
            "|   Age |   Watch_Time_Hours |   Days_Since_Last_Login | Country_Brazil   | Country_Canada   | Country_France   | Country_Germany   | Country_India   | Country_Japan   | Country_Mexico   | Country_UK   | Country_USA   | Subscription_Type_Premium   | Subscription_Type_Standard   | Favorite_Genre_Comedy   | Favorite_Genre_Documentary   | Favorite_Genre_Drama   | Favorite_Genre_Horror   | Favorite_Genre_Romance   | Favorite_Genre_Sci-Fi   |\n",
            "|------:|-------------------:|------------------------:|:-----------------|:-----------------|:-----------------|:------------------|:----------------|:----------------|:-----------------|:-------------|:--------------|:----------------------------|:-----------------------------|:------------------------|:-----------------------------|:-----------------------|:------------------------|:-------------------------|:------------------------|\n",
            "|    18 |              80.26 |                     301 | False            | False            | True             | False             | False           | False           | False            | False        | False         | True                        | False                        | False                   | False                        | True                   | False                   | False                    | False                   |\n",
            "|    23 |             321.75 |                      32 | False            | False            | False            | False             | False           | False           | False            | False        | True          | True                        | False                        | False                   | False                        | False                  | False                   | False                    | True                    |\n",
            "|    60 |              35.89 |                      44 | False            | False            | False            | False             | False           | False           | False            | True         | False         | False                       | False                        | True                    | False                        | False                  | False                   | False                    | False                   |\n",
            "|    44 |             261.56 |                     349 | False            | False            | False            | False             | False           | False           | False            | False        | True          | True                        | False                        | False                   | True                         | False                  | False                   | False                    | False                   |\n",
            "|    68 |             909.3  |                      54 | False            | False            | False            | False             | False           | False           | False            | False        | True          | False                       | True                         | False                   | False                        | True                   | False                   | False                    | False                   |\n",
            "\n",
            "--- Final Features Info (X) ---\n",
            "<class 'pandas.core.frame.DataFrame'>\n",
            "RangeIndex: 25000 entries, 0 to 24999\n",
            "Data columns (total 20 columns):\n",
            " #   Column                      Non-Null Count  Dtype  \n",
            "---  ------                      --------------  -----  \n",
            " 0   Age                         25000 non-null  int64  \n",
            " 1   Watch_Time_Hours            25000 non-null  float64\n",
            " 2   Days_Since_Last_Login       25000 non-null  int64  \n",
            " 3   Country_Brazil              25000 non-null  bool   \n",
            " 4   Country_Canada              25000 non-null  bool   \n",
            " 5   Country_France              25000 non-null  bool   \n",
            " 6   Country_Germany             25000 non-null  bool   \n",
            " 7   Country_India               25000 non-null  bool   \n",
            " 8   Country_Japan               25000 non-null  bool   \n",
            " 9   Country_Mexico              25000 non-null  bool   \n",
            " 10  Country_UK                  25000 non-null  bool   \n",
            " 11  Country_USA                 25000 non-null  bool   \n",
            " 12  Subscription_Type_Premium   25000 non-null  bool   \n",
            " 13  Subscription_Type_Standard  25000 non-null  bool   \n",
            " 14  Favorite_Genre_Comedy       25000 non-null  bool   \n",
            " 15  Favorite_Genre_Documentary  25000 non-null  bool   \n",
            " 16  Favorite_Genre_Drama        25000 non-null  bool   \n",
            " 17  Favorite_Genre_Horror       25000 non-null  bool   \n",
            " 18  Favorite_Genre_Romance      25000 non-null  bool   \n",
            " 19  Favorite_Genre_Sci-Fi       25000 non-null  bool   \n",
            "dtypes: bool(17), float64(1), int64(2)\n",
            "memory usage: 1001.1 KB\n",
            "None\n"
          ]
        }
      ]
    },
    {
      "cell_type": "code",
      "source": [
        "import pandas as pd\n",
        "from sklearn.model_selection import train_test_split\n",
        "from sklearn.linear_model import LogisticRegression\n",
        "from sklearn.metrics import classification_report, confusion_matrix\n",
        "import numpy as np\n",
        "\n",
        "# Assuming X_features.csv and y_target.csv are available from Action 4\n",
        "\n",
        "# Load the encoded features (X) and target (y)\n",
        "# .squeeze() is used for the target to ensure it is a Series\n",
        "X = pd.read_csv('X_features.csv')\n",
        "y = pd.read_csv('y_target.csv').squeeze()\n",
        "\n",
        "# 1. Split the data into training and testing sets\n",
        "# stratify=y ensures the proportion of Churn=1 and Churn=0 is the same in both sets\n",
        "X_train, X_test, y_train, y_test = train_test_split(\n",
        "    X, y, test_size=0.2, random_state=42, stratify=y\n",
        ")\n",
        "\n",
        "# 2. Choose and initialize the model (Logistic Regression)\n",
        "model = LogisticRegression(solver='liblinear', random_state=42, max_iter=1000)\n",
        "\n",
        "# 3. Train the model on the training data\n",
        "model.fit(X_train, y_train)\n",
        "\n",
        "# 4. Make predictions on the unseen test set\n",
        "y_pred = model.predict(X_test)\n",
        "\n",
        "# 5. Evaluate the model\n",
        "\n",
        "print(\"--- Confusion Matrix ---\")\n",
        "# This matrix shows correct vs. incorrect predictions\n",
        "print(pd.DataFrame(confusion_matrix(y_test, y_pred),\n",
        "                   index=['Actual Active (0)', 'Actual Churned (1)'],\n",
        "                   columns=['Predicted Active (0)', 'Predicted Churned (1)']).to_markdown())\n",
        "\n",
        "print(\"\\n--- Classification Report ---\")\n",
        "# This report shows Precision, Recall, and F1-Score for each class\n",
        "print(classification_report(y_test, y_pred))"
      ],
      "metadata": {
        "colab": {
          "base_uri": "https://localhost:8080/",
          "height": 365
        },
        "id": "GDH_MIUz_IgG",
        "outputId": "b8fed7c7-c49f-4aab-f339-f45a7114ced1"
      },
      "execution_count": 36,
      "outputs": [
        {
          "output_type": "error",
          "ename": "FileNotFoundError",
          "evalue": "[Errno 2] No such file or directory: 'X_features.csv'",
          "traceback": [
            "\u001b[0;31m---------------------------------------------------------------------------\u001b[0m",
            "\u001b[0;31mFileNotFoundError\u001b[0m                         Traceback (most recent call last)",
            "\u001b[0;32m/tmp/ipython-input-1911216958.py\u001b[0m in \u001b[0;36m<cell line: 0>\u001b[0;34m()\u001b[0m\n\u001b[1;32m      9\u001b[0m \u001b[0;31m# Load the encoded features (X) and target (y)\u001b[0m\u001b[0;34m\u001b[0m\u001b[0;34m\u001b[0m\u001b[0m\n\u001b[1;32m     10\u001b[0m \u001b[0;31m# .squeeze() is used for the target to ensure it is a Series\u001b[0m\u001b[0;34m\u001b[0m\u001b[0;34m\u001b[0m\u001b[0m\n\u001b[0;32m---> 11\u001b[0;31m \u001b[0mX\u001b[0m \u001b[0;34m=\u001b[0m \u001b[0mpd\u001b[0m\u001b[0;34m.\u001b[0m\u001b[0mread_csv\u001b[0m\u001b[0;34m(\u001b[0m\u001b[0;34m'X_features.csv'\u001b[0m\u001b[0;34m)\u001b[0m\u001b[0;34m\u001b[0m\u001b[0;34m\u001b[0m\u001b[0m\n\u001b[0m\u001b[1;32m     12\u001b[0m \u001b[0my\u001b[0m \u001b[0;34m=\u001b[0m \u001b[0mpd\u001b[0m\u001b[0;34m.\u001b[0m\u001b[0mread_csv\u001b[0m\u001b[0;34m(\u001b[0m\u001b[0;34m'y_target.csv'\u001b[0m\u001b[0;34m)\u001b[0m\u001b[0;34m.\u001b[0m\u001b[0msqueeze\u001b[0m\u001b[0;34m(\u001b[0m\u001b[0;34m)\u001b[0m\u001b[0;34m\u001b[0m\u001b[0;34m\u001b[0m\u001b[0m\n\u001b[1;32m     13\u001b[0m \u001b[0;34m\u001b[0m\u001b[0m\n",
            "\u001b[0;32m/usr/local/lib/python3.12/dist-packages/pandas/io/parsers/readers.py\u001b[0m in \u001b[0;36mread_csv\u001b[0;34m(filepath_or_buffer, sep, delimiter, header, names, index_col, usecols, dtype, engine, converters, true_values, false_values, skipinitialspace, skiprows, skipfooter, nrows, na_values, keep_default_na, na_filter, verbose, skip_blank_lines, parse_dates, infer_datetime_format, keep_date_col, date_parser, date_format, dayfirst, cache_dates, iterator, chunksize, compression, thousands, decimal, lineterminator, quotechar, quoting, doublequote, escapechar, comment, encoding, encoding_errors, dialect, on_bad_lines, delim_whitespace, low_memory, memory_map, float_precision, storage_options, dtype_backend)\u001b[0m\n\u001b[1;32m   1024\u001b[0m     \u001b[0mkwds\u001b[0m\u001b[0;34m.\u001b[0m\u001b[0mupdate\u001b[0m\u001b[0;34m(\u001b[0m\u001b[0mkwds_defaults\u001b[0m\u001b[0;34m)\u001b[0m\u001b[0;34m\u001b[0m\u001b[0;34m\u001b[0m\u001b[0m\n\u001b[1;32m   1025\u001b[0m \u001b[0;34m\u001b[0m\u001b[0m\n\u001b[0;32m-> 1026\u001b[0;31m     \u001b[0;32mreturn\u001b[0m \u001b[0m_read\u001b[0m\u001b[0;34m(\u001b[0m\u001b[0mfilepath_or_buffer\u001b[0m\u001b[0;34m,\u001b[0m \u001b[0mkwds\u001b[0m\u001b[0;34m)\u001b[0m\u001b[0;34m\u001b[0m\u001b[0;34m\u001b[0m\u001b[0m\n\u001b[0m\u001b[1;32m   1027\u001b[0m \u001b[0;34m\u001b[0m\u001b[0m\n\u001b[1;32m   1028\u001b[0m \u001b[0;34m\u001b[0m\u001b[0m\n",
            "\u001b[0;32m/usr/local/lib/python3.12/dist-packages/pandas/io/parsers/readers.py\u001b[0m in \u001b[0;36m_read\u001b[0;34m(filepath_or_buffer, kwds)\u001b[0m\n\u001b[1;32m    618\u001b[0m \u001b[0;34m\u001b[0m\u001b[0m\n\u001b[1;32m    619\u001b[0m     \u001b[0;31m# Create the parser.\u001b[0m\u001b[0;34m\u001b[0m\u001b[0;34m\u001b[0m\u001b[0m\n\u001b[0;32m--> 620\u001b[0;31m     \u001b[0mparser\u001b[0m \u001b[0;34m=\u001b[0m \u001b[0mTextFileReader\u001b[0m\u001b[0;34m(\u001b[0m\u001b[0mfilepath_or_buffer\u001b[0m\u001b[0;34m,\u001b[0m \u001b[0;34m**\u001b[0m\u001b[0mkwds\u001b[0m\u001b[0;34m)\u001b[0m\u001b[0;34m\u001b[0m\u001b[0;34m\u001b[0m\u001b[0m\n\u001b[0m\u001b[1;32m    621\u001b[0m \u001b[0;34m\u001b[0m\u001b[0m\n\u001b[1;32m    622\u001b[0m     \u001b[0;32mif\u001b[0m \u001b[0mchunksize\u001b[0m \u001b[0;32mor\u001b[0m \u001b[0miterator\u001b[0m\u001b[0;34m:\u001b[0m\u001b[0;34m\u001b[0m\u001b[0;34m\u001b[0m\u001b[0m\n",
            "\u001b[0;32m/usr/local/lib/python3.12/dist-packages/pandas/io/parsers/readers.py\u001b[0m in \u001b[0;36m__init__\u001b[0;34m(self, f, engine, **kwds)\u001b[0m\n\u001b[1;32m   1618\u001b[0m \u001b[0;34m\u001b[0m\u001b[0m\n\u001b[1;32m   1619\u001b[0m         \u001b[0mself\u001b[0m\u001b[0;34m.\u001b[0m\u001b[0mhandles\u001b[0m\u001b[0;34m:\u001b[0m \u001b[0mIOHandles\u001b[0m \u001b[0;34m|\u001b[0m \u001b[0;32mNone\u001b[0m \u001b[0;34m=\u001b[0m \u001b[0;32mNone\u001b[0m\u001b[0;34m\u001b[0m\u001b[0;34m\u001b[0m\u001b[0m\n\u001b[0;32m-> 1620\u001b[0;31m         \u001b[0mself\u001b[0m\u001b[0;34m.\u001b[0m\u001b[0m_engine\u001b[0m \u001b[0;34m=\u001b[0m \u001b[0mself\u001b[0m\u001b[0;34m.\u001b[0m\u001b[0m_make_engine\u001b[0m\u001b[0;34m(\u001b[0m\u001b[0mf\u001b[0m\u001b[0;34m,\u001b[0m \u001b[0mself\u001b[0m\u001b[0;34m.\u001b[0m\u001b[0mengine\u001b[0m\u001b[0;34m)\u001b[0m\u001b[0;34m\u001b[0m\u001b[0;34m\u001b[0m\u001b[0m\n\u001b[0m\u001b[1;32m   1621\u001b[0m \u001b[0;34m\u001b[0m\u001b[0m\n\u001b[1;32m   1622\u001b[0m     \u001b[0;32mdef\u001b[0m \u001b[0mclose\u001b[0m\u001b[0;34m(\u001b[0m\u001b[0mself\u001b[0m\u001b[0;34m)\u001b[0m \u001b[0;34m->\u001b[0m \u001b[0;32mNone\u001b[0m\u001b[0;34m:\u001b[0m\u001b[0;34m\u001b[0m\u001b[0;34m\u001b[0m\u001b[0m\n",
            "\u001b[0;32m/usr/local/lib/python3.12/dist-packages/pandas/io/parsers/readers.py\u001b[0m in \u001b[0;36m_make_engine\u001b[0;34m(self, f, engine)\u001b[0m\n\u001b[1;32m   1878\u001b[0m                 \u001b[0;32mif\u001b[0m \u001b[0;34m\"b\"\u001b[0m \u001b[0;32mnot\u001b[0m \u001b[0;32min\u001b[0m \u001b[0mmode\u001b[0m\u001b[0;34m:\u001b[0m\u001b[0;34m\u001b[0m\u001b[0;34m\u001b[0m\u001b[0m\n\u001b[1;32m   1879\u001b[0m                     \u001b[0mmode\u001b[0m \u001b[0;34m+=\u001b[0m \u001b[0;34m\"b\"\u001b[0m\u001b[0;34m\u001b[0m\u001b[0;34m\u001b[0m\u001b[0m\n\u001b[0;32m-> 1880\u001b[0;31m             self.handles = get_handle(\n\u001b[0m\u001b[1;32m   1881\u001b[0m                 \u001b[0mf\u001b[0m\u001b[0;34m,\u001b[0m\u001b[0;34m\u001b[0m\u001b[0;34m\u001b[0m\u001b[0m\n\u001b[1;32m   1882\u001b[0m                 \u001b[0mmode\u001b[0m\u001b[0;34m,\u001b[0m\u001b[0;34m\u001b[0m\u001b[0;34m\u001b[0m\u001b[0m\n",
            "\u001b[0;32m/usr/local/lib/python3.12/dist-packages/pandas/io/common.py\u001b[0m in \u001b[0;36mget_handle\u001b[0;34m(path_or_buf, mode, encoding, compression, memory_map, is_text, errors, storage_options)\u001b[0m\n\u001b[1;32m    871\u001b[0m         \u001b[0;32mif\u001b[0m \u001b[0mioargs\u001b[0m\u001b[0;34m.\u001b[0m\u001b[0mencoding\u001b[0m \u001b[0;32mand\u001b[0m \u001b[0;34m\"b\"\u001b[0m \u001b[0;32mnot\u001b[0m \u001b[0;32min\u001b[0m \u001b[0mioargs\u001b[0m\u001b[0;34m.\u001b[0m\u001b[0mmode\u001b[0m\u001b[0;34m:\u001b[0m\u001b[0;34m\u001b[0m\u001b[0;34m\u001b[0m\u001b[0m\n\u001b[1;32m    872\u001b[0m             \u001b[0;31m# Encoding\u001b[0m\u001b[0;34m\u001b[0m\u001b[0;34m\u001b[0m\u001b[0m\n\u001b[0;32m--> 873\u001b[0;31m             handle = open(\n\u001b[0m\u001b[1;32m    874\u001b[0m                 \u001b[0mhandle\u001b[0m\u001b[0;34m,\u001b[0m\u001b[0;34m\u001b[0m\u001b[0;34m\u001b[0m\u001b[0m\n\u001b[1;32m    875\u001b[0m                 \u001b[0mioargs\u001b[0m\u001b[0;34m.\u001b[0m\u001b[0mmode\u001b[0m\u001b[0;34m,\u001b[0m\u001b[0;34m\u001b[0m\u001b[0;34m\u001b[0m\u001b[0m\n",
            "\u001b[0;31mFileNotFoundError\u001b[0m: [Errno 2] No such file or directory: 'X_features.csv'"
          ]
        }
      ]
    },
    {
      "cell_type": "code",
      "source": [
        "import pandas as pd\n",
        "import numpy as np\n",
        "from sklearn.model_selection import train_test_split\n",
        "from sklearn.linear_model import LogisticRegression\n",
        "from sklearn.metrics import classification_report, confusion_matrix\n",
        "\n",
        "# --- ACTION 1: Load Data ---\n",
        "# Load the original dataset\n",
        "df = pd.read_csv('netflix_users.csv')\n",
        "\n",
        "# --- ACTION 2: Define Churn (Target Variable Creation) ---\n",
        "\n",
        "# Convert 'Last_Login' to datetime objects\n",
        "df['Last_Login'] = pd.to_datetime(df['Last_Login'])\n",
        "\n",
        "# Establish a Reference Date (1 day after the latest login)\n",
        "latest_login_date = df['Last_Login'].max()\n",
        "REFERENCE_DATE = latest_login_date + pd.Timedelta(days=1)\n",
        "\n",
        "# Calculate 'Days_Since_Last_Login'\n",
        "df['Days_Since_Last_Login'] = (REFERENCE_DATE - df['Last_Login']).dt.days\n",
        "\n",
        "# Define the Churn Threshold (30 days) and Create the 'Churn' Column\n",
        "CHURN_THRESHOLD_DAYS = 30\n",
        "df['Churn'] = np.where(df['Days_Since_Last_Login'] > CHURN_THRESHOLD_DAYS, 1, 0)\n",
        "\n",
        "# --- ACTION 4: Feature Engineering & Cleaning (Corrected) ---\n",
        "\n",
        "# Identify categorical features for One-Hot Encoding\n",
        "categorical_features = ['Country', 'Subscription_Type', 'Favorite_Genre']\n",
        "\n",
        "# Apply One-Hot Encoding\n",
        "df_encoded = pd.get_dummies(df, columns=categorical_features, drop_first=True)\n",
        "\n",
        "# Define columns to drop (redundant or non-predictive)\n",
        "columns_to_drop = ['User_ID', 'Name', 'Last_Login']\n",
        "\n",
        "# Features (X): Drop the non-predictive columns and the target column 'Churn'\n",
        "# The fix: errors='ignore' ensures no KeyError if columns were already removed\n",
        "X = df_encoded.drop(columns=columns_to_drop + ['Churn'], errors='ignore')\n",
        "\n",
        "# Target (y)\n",
        "y = df_encoded['Churn']\n",
        "\n",
        "# --- ACTION 5: Model Building ---\n",
        "\n",
        "# 1. Split the data (80% train, 20% test)\n",
        "X_train, X_test, y_train, y_test = train_test_split(\n",
        "    X, y, test_size=0.2, random_state=42, stratify=y\n",
        ")\n",
        "\n",
        "# 2. Initialize the model\n",
        "model = LogisticRegression(solver='liblinear', random_state=42, max_iter=1000)\n",
        "\n",
        "# 3. Train the model\n",
        "model.fit(X_train, y_train)\n",
        "\n",
        "# 4. Make predictions\n",
        "y_pred = model.predict(X_test)\n",
        "\n",
        "# 5. Evaluate the model\n",
        "print(\"--- Final Model Evaluation Results ---\")\n",
        "print(\"--- Confusion Matrix ---\")\n",
        "print(pd.DataFrame(confusion_matrix(y_test, y_pred),\n",
        "                   index=['Actual Active (0)', 'Actual Churned (1)'],\n",
        "                   columns=['Predicted Active (0)', 'Predicted Churned (1)']).to_markdown())\n",
        "\n",
        "print(\"\\n--- Classification Report ---\")\n",
        "print(classification_report(y_test, y_pred))"
      ],
      "metadata": {
        "colab": {
          "base_uri": "https://localhost:8080/"
        },
        "id": "RzcjrFDoA0EW",
        "outputId": "c7c9ddde-bfa8-43e4-df3e-ab410d929bd5"
      },
      "execution_count": 37,
      "outputs": [
        {
          "output_type": "stream",
          "name": "stdout",
          "text": [
            "--- Final Model Evaluation Results ---\n",
            "--- Confusion Matrix ---\n",
            "|                    |   Predicted Active (0) |   Predicted Churned (1) |\n",
            "|:-------------------|-----------------------:|------------------------:|\n",
            "| Actual Active (0)  |                    410 |                       6 |\n",
            "| Actual Churned (1) |                     13 |                    4571 |\n",
            "\n",
            "--- Classification Report ---\n",
            "              precision    recall  f1-score   support\n",
            "\n",
            "           0       0.97      0.99      0.98       416\n",
            "           1       1.00      1.00      1.00      4584\n",
            "\n",
            "    accuracy                           1.00      5000\n",
            "   macro avg       0.98      0.99      0.99      5000\n",
            "weighted avg       1.00      1.00      1.00      5000\n",
            "\n"
          ]
        }
      ]
    }
  ]
}